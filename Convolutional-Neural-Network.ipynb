{
 "cells": [
  {
   "cell_type": "code",
   "execution_count": 1,
   "metadata": {},
   "outputs": [
    {
     "name": "stderr",
     "output_type": "stream",
     "text": [
      "/Users/Home/anaconda/lib/python3.6/site-packages/h5py/__init__.py:36: FutureWarning: Conversion of the second argument of issubdtype from `float` to `np.floating` is deprecated. In future, it will be treated as `np.float64 == np.dtype(float).type`.\n",
      "  from ._conv import register_converters as _register_converters\n",
      "Using TensorFlow backend.\n"
     ]
    }
   ],
   "source": [
    "# Import Dependencies\n",
    "\n",
    "# Keras: Machine Learning Library (Includes MNIST Dataset)\n",
    "import keras\n",
    "from keras.datasets import mnist\n",
    "from keras.layers import Dense, Activation\n",
    "from keras.models import Sequential\n",
    "\n",
    "# Matplotlib: Data Visualization Library\n",
    "import matplotlib.pyplot as plt"
   ]
  },
  {
   "cell_type": "code",
   "execution_count": 2,
   "metadata": {
    "collapsed": true
   },
   "outputs": [],
   "source": [
    "# Load Data\n",
    "(x_train, y_train), (x_test, y_test) = mnist.load_data()"
   ]
  },
  {
   "cell_type": "code",
   "execution_count": 3,
   "metadata": {},
   "outputs": [
    {
     "name": "stdout",
     "output_type": "stream",
     "text": [
      "Training inputs shape is (60000, 28, 28)\n",
      "Training labels:\n",
      "[5 0 4 ... 5 6 8]\n",
      "Training labels shape is (60000,)\n",
      "\n",
      "Test inputs shape is (10000, 28, 28)\n",
      "Test labels:\n",
      "[7 2 1 ... 4 5 6]\n",
      "Test labels shape is (10000,)\n"
     ]
    }
   ],
   "source": [
    "# Data Exploration\n",
    "\n",
    "print(\"Training inputs shape is \" + str(x_train.shape)) # 60,000 samples, each image: 28 x 28 pixels\n",
    "print(\"Training labels:\")\n",
    "print(y_train)\n",
    "print(\"Training labels shape is \" + str(y_train.shape))\n",
    "print()\n",
    "print(\"Test inputs shape is \" + str(x_test.shape)) # 10,000 samples, each image: 28 x 28 pixels\n",
    "print(\"Test labels:\")\n",
    "print(y_test)\n",
    "print(\"Test labels shape is \" + str(y_test.shape))"
   ]
  },
  {
   "cell_type": "code",
   "execution_count": null,
   "metadata": {
    "collapsed": true
   },
   "outputs": [],
   "source": []
  }
 ],
 "metadata": {
  "kernelspec": {
   "display_name": "Python 3",
   "language": "python",
   "name": "python3"
  },
  "language_info": {
   "codemirror_mode": {
    "name": "ipython",
    "version": 3
   },
   "file_extension": ".py",
   "mimetype": "text/x-python",
   "name": "python",
   "nbconvert_exporter": "python",
   "pygments_lexer": "ipython3",
   "version": "3.6.8"
  }
 },
 "nbformat": 4,
 "nbformat_minor": 2
}
